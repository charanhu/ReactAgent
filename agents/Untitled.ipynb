{
 "cells": [
  {
   "cell_type": "code",
   "execution_count": 4,
   "id": "cb2be03c",
   "metadata": {
    "height": 30
   },
   "outputs": [
    {
     "name": "stdout",
     "output_type": "stream",
     "text": [
      "L1/\r\n",
      "L1/Lesson_1_Student.ipynb\r\n",
      "L1/requirements.txt\r\n",
      "L1/.ipynb_checkpoints/\r\n",
      "L1/.ipynb_checkpoints/Untitled-checkpoint.ipynb\r\n",
      "L1/Untitled.ipynb\r\n",
      "L2/\r\n",
      "L2/Lesson_2_Student.ipynb\r\n",
      "L3/\r\n",
      "L3/Lesson_3_Student.ipynb\r\n",
      "L3/google_sample.png\r\n",
      "L4/\r\n",
      "L4/Lesson_4_Student.ipynb\r\n",
      "L5/\r\n",
      "L5/Lesson_5_Student-Copy1.ipynb\r\n",
      "L5/Lesson_5_Student.ipynb\r\n",
      "L6/\r\n",
      "L6/Lesson_6_Student.ipynb\r\n",
      "L6/helper.py\r\n",
      "L6/temp_test_gradio.ipynb\r\n",
      "README.md\r\n",
      "Untitled.ipynb\r\n"
     ]
    }
   ],
   "source": [
    "!tar -czvf archive_name.tar.gz *"
   ]
  },
  {
   "cell_type": "code",
   "execution_count": 3,
   "id": "86f579c4",
   "metadata": {
    "height": 30
   },
   "outputs": [
    {
     "name": "stdout",
     "output_type": "stream",
     "text": [
      "/usr/bin/sh: 1: brew: not found\r\n"
     ]
    }
   ],
   "source": [
    "!brew install zip"
   ]
  }
 ],
 "metadata": {
  "kernelspec": {
   "display_name": "Python 3 (ipykernel)",
   "language": "python",
   "name": "python3"
  },
  "language_info": {
   "codemirror_mode": {
    "name": "ipython",
    "version": 3
   },
   "file_extension": ".py",
   "mimetype": "text/x-python",
   "name": "python",
   "nbconvert_exporter": "python",
   "pygments_lexer": "ipython3",
   "version": "3.11.9"
  }
 },
 "nbformat": 4,
 "nbformat_minor": 5
}
